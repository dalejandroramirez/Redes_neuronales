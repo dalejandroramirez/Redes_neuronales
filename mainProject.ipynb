{
 "cells": [
  {
   "cell_type": "code",
   "execution_count": 1,
   "metadata": {},
   "outputs": [
    {
     "name": "stdout",
     "output_type": "stream",
     "text": [
      "--2021-12-07 11:22:18--  https://platzi.com/clases/2565-redes-neuronales-tensorflow/42844-datasets-generators/\n",
      "Resolviendo platzi.com (platzi.com)... 104.17.176.85, 104.17.175.85, 2606:4700::6811:b055, ...\n",
      "Conectando con platzi.com (platzi.com)[104.17.176.85]:443... conectado.\n",
      "Petición HTTP enviada, esperando respuesta... 403 Forbidden\n",
      "2021-12-07 11:22:19 ERROR 403: Forbidden.\n",
      "\n"
     ]
    }
   ],
   "source": [
    "!wget --no-check-certificate https://platzi.com/clases/2565-redes-neuronales-tensorflow/42844-datasets-generators/"
   ]
  },
  {
   "cell_type": "code",
   "execution_count": null,
   "metadata": {},
   "outputs": [],
   "source": [
    "import os \n",
    "import zipfile\n",
    "\n",
    "local_zip=\"/home/usuario/Documentos/Platzi/Redes_neuronales/databasesLoadData/basedatos_1\""
   ]
  },
  {
   "cell_type": "code",
   "execution_count": 6,
   "metadata": {},
   "outputs": [],
   "source": [
    "import numpy as np\n",
    "%matplotlib inline\n",
    "import matplotlib.pyplot as plt\n",
    "import matplotlib.image as mpimg\n",
    "import string\n",
    "import tensorflow as tf\n",
    "\n",
    "from tensorflow.keras.preprocessing.image import ImageDataGenerator"
   ]
  },
  {
   "cell_type": "code",
   "execution_count": 7,
   "metadata": {},
   "outputs": [],
   "source": [
    "train_dir=\"databasesLoadData/basedatos_1/sign-language-img/Train\"\n",
    "test_dir=\"databasesLoadData/basedatos_1/sign-language-img/Test\"\n"
   ]
  },
  {
   "cell_type": "markdown",
   "metadata": {},
   "source": [
    "Dado que una imagen a blanco y negro tiene 255 escals de colores\n",
    "se normalizara usando ImageDataGenerator\n",
    "\n",
    "con el parametro validation_split se toma un 20% de los datos\n",
    "para validar"
   ]
  },
  {
   "cell_type": "code",
   "execution_count": 9,
   "metadata": {},
   "outputs": [
    {
     "data": {
      "text/plain": [
       "<keras.preprocessing.image.ImageDataGenerator at 0x7f1fe6660b70>"
      ]
     },
     "execution_count": 9,
     "metadata": {},
     "output_type": "execute_result"
    }
   ],
   "source": [
    "train_datagen=ImageDataGenerator(rescale=1/255)\n",
    "test_datagen=ImageDataGenerator(rescale=1/255,validation_split=0.2)\n"
   ]
  },
  {
   "cell_type": "markdown",
   "metadata": {},
   "source": [
    "Geradores se van a cargar desde un directorio con train_datagen.flow_form_directory()\n",
    "y sus parametros son\n",
    "\n",
    "-train_dir :direccion de la base de datos\n",
    "-targers_size : eltamaño fijo de las imagenes\n",
    "-batch_size : la cantidad de imagenes que van a ir juntas a entrenarse, mientras mas malo sea el pc mas bajo debe ser el barch_size\n",
    "-class_mode=\"categorical\"\n",
    "-color_mode=\"grayscale\"\n",
    "-subset=\"trainig\"\n",
    "\n"
   ]
  },
  {
   "cell_type": "code",
   "execution_count": 17,
   "metadata": {},
   "outputs": [
    {
     "name": "stdout",
     "output_type": "stream",
     "text": [
      "Found 27455 images belonging to 24 classes.\n",
      "Found 1425 images belonging to 24 classes.\n",
      "Found 7172 images belonging to 24 classes.\n"
     ]
    }
   ],
   "source": [
    "train_generator= train_datagen.flow_from_directory(\n",
    "    train_dir,\n",
    "    target_size=(28,28),\n",
    "    batch_size=128,\n",
    "    class_mode=\"categorical\",\n",
    "    color_mode=\"grayscale\",\n",
    "    subset=\"training\"\n",
    ")\n",
    "\n",
    "validation_generator= test_datagen.flow_from_directory(\n",
    "    test_dir,\n",
    "    target_size=(28,28),\n",
    "    batch_size=128,\n",
    "    class_mode=\"categorical\",\n",
    "    color_mode=\"grayscale\",\n",
    "    subset=\"validation\"\n",
    ")\n",
    "\n",
    "test_generator= test_datagen.flow_from_directory(\n",
    "    test_dir,\n",
    "    target_size=(28,28),\n",
    "    batch_size=128,\n",
    "    class_mode=\"categorical\",\n",
    "    color_mode=\"grayscale\",\n",
    ")"
   ]
  },
  {
   "cell_type": "markdown",
   "metadata": {},
   "source": [
    "Se van a crear las clases"
   ]
  },
  {
   "cell_type": "code",
   "execution_count": 21,
   "metadata": {},
   "outputs": [
    {
     "data": {
      "text/plain": [
       "['A',\n",
       " 'B',\n",
       " 'C',\n",
       " 'D',\n",
       " 'E',\n",
       " 'F',\n",
       " 'G',\n",
       " 'H',\n",
       " 'I',\n",
       " 'K',\n",
       " 'L',\n",
       " 'M',\n",
       " 'N',\n",
       " 'O',\n",
       " 'P',\n",
       " 'Q',\n",
       " 'R',\n",
       " 'S',\n",
       " 'T',\n",
       " 'U',\n",
       " 'V',\n",
       " 'W',\n",
       " 'X',\n",
       " 'Y']"
      ]
     },
     "execution_count": 21,
     "metadata": {},
     "output_type": "execute_result"
    }
   ],
   "source": [
    "classes=[char for char in string.ascii_uppercase if char != \"J\" if char != \"Z\"]"
   ]
  },
  {
   "cell_type": "code",
   "execution_count": 29,
   "metadata": {},
   "outputs": [],
   "source": [
    "def plotImage(images_arr):\n",
    "    fig, axes=plt.subplots(1,5,figsize=(10,10))\n",
    "    axes=axes.flatten()\n",
    "    for img ,ax in zip(images_arr,axes):\n",
    "        ax.imshow(img[:,:,0])\n",
    "        ax.axis(\"off\")\n",
    "    plt.tight_layout()\n",
    "    plt.show()"
   ]
  },
  {
   "cell_type": "code",
   "execution_count": 30,
   "metadata": {},
   "outputs": [
    {
     "ename": "IndexError",
     "evalue": "too many indices for array: array is 2-dimensional, but 3 were indexed",
     "output_type": "error",
     "traceback": [
      "\u001b[0;31m---------------------------------------------------------------------------\u001b[0m",
      "\u001b[0;31mIndexError\u001b[0m                                Traceback (most recent call last)",
      "\u001b[0;32m<ipython-input-30-45fff2d360ea>\u001b[0m in \u001b[0;36m<module>\u001b[0;34m\u001b[0m\n\u001b[1;32m      1\u001b[0m \u001b[0msample_training_image\u001b[0m\u001b[0;34m=\u001b[0m\u001b[0mnext\u001b[0m\u001b[0;34m(\u001b[0m\u001b[0mtrain_generator\u001b[0m\u001b[0;34m)\u001b[0m\u001b[0;34m\u001b[0m\u001b[0;34m\u001b[0m\u001b[0m\n\u001b[0;32m----> 2\u001b[0;31m \u001b[0mplotImage\u001b[0m\u001b[0;34m(\u001b[0m\u001b[0msample_training_image\u001b[0m\u001b[0;34m[\u001b[0m\u001b[0;34m:\u001b[0m\u001b[0;36m5\u001b[0m\u001b[0;34m]\u001b[0m\u001b[0;34m)\u001b[0m\u001b[0;34m\u001b[0m\u001b[0;34m\u001b[0m\u001b[0m\n\u001b[0m",
      "\u001b[0;32m<ipython-input-29-eb6765d4f2f2>\u001b[0m in \u001b[0;36mplotImage\u001b[0;34m(images_arr)\u001b[0m\n\u001b[1;32m      3\u001b[0m     \u001b[0maxes\u001b[0m\u001b[0;34m=\u001b[0m\u001b[0maxes\u001b[0m\u001b[0;34m.\u001b[0m\u001b[0mflatten\u001b[0m\u001b[0;34m(\u001b[0m\u001b[0;34m)\u001b[0m\u001b[0;34m\u001b[0m\u001b[0;34m\u001b[0m\u001b[0m\n\u001b[1;32m      4\u001b[0m     \u001b[0;32mfor\u001b[0m \u001b[0mimg\u001b[0m \u001b[0;34m,\u001b[0m\u001b[0max\u001b[0m \u001b[0;32min\u001b[0m \u001b[0mzip\u001b[0m\u001b[0;34m(\u001b[0m\u001b[0mimages_arr\u001b[0m\u001b[0;34m,\u001b[0m\u001b[0maxes\u001b[0m\u001b[0;34m)\u001b[0m\u001b[0;34m:\u001b[0m\u001b[0;34m\u001b[0m\u001b[0;34m\u001b[0m\u001b[0m\n\u001b[0;32m----> 5\u001b[0;31m         \u001b[0max\u001b[0m\u001b[0;34m.\u001b[0m\u001b[0mimshow\u001b[0m\u001b[0;34m(\u001b[0m\u001b[0mimg\u001b[0m\u001b[0;34m[\u001b[0m\u001b[0;34m:\u001b[0m\u001b[0;34m,\u001b[0m\u001b[0;34m:\u001b[0m\u001b[0;34m,\u001b[0m\u001b[0;36m0\u001b[0m\u001b[0;34m]\u001b[0m\u001b[0;34m)\u001b[0m\u001b[0;34m\u001b[0m\u001b[0;34m\u001b[0m\u001b[0m\n\u001b[0m\u001b[1;32m      6\u001b[0m         \u001b[0max\u001b[0m\u001b[0;34m.\u001b[0m\u001b[0maxis\u001b[0m\u001b[0;34m(\u001b[0m\u001b[0;34m\"off\"\u001b[0m\u001b[0;34m)\u001b[0m\u001b[0;34m\u001b[0m\u001b[0;34m\u001b[0m\u001b[0m\n\u001b[1;32m      7\u001b[0m     \u001b[0mplt\u001b[0m\u001b[0;34m.\u001b[0m\u001b[0mtight_layout\u001b[0m\u001b[0;34m(\u001b[0m\u001b[0;34m)\u001b[0m\u001b[0;34m\u001b[0m\u001b[0;34m\u001b[0m\u001b[0m\n",
      "\u001b[0;31mIndexError\u001b[0m: too many indices for array: array is 2-dimensional, but 3 were indexed"
     ]
    },
    {
     "data": {
      "image/png": "[encoded data removed]",
      "text/plain": [
       "<Figure size 720x720 with 5 Axes>"
      ]
     },
     "metadata": {
      "needs_background": "light"
     },
     "output_type": "display_data"
    }
   ],
   "source": [
    "sample_training_image, _=next(train_generator)\n",
    "plotImage(sample_training_image[:5])\n"
   ]
  }
 ],
 "metadata": {
  "interpreter": {
   "hash": "a5e93548a91beae61eda99f54ca155fd2d7ba7bc61bddb22d974f5bd6509e5b5"
  },
  "kernelspec": {
   "display_name": "Python 3.6.9 64-bit ('env': venv)",
   "language": "python",
   "name": "python3"
  },
  "language_info": {
   "codemirror_mode": {
    "name": "ipython",
    "version": 3
   },
   "file_extension": ".py",
   "mimetype": "text/x-python",
   "name": "python",
   "nbconvert_exporter": "python",
   "pygments_lexer": "ipython3",
   "version": "3.6.9"
  },
  "orig_nbformat": 4
 },
 "nbformat": 4,
 "nbformat_minor": 2
}
